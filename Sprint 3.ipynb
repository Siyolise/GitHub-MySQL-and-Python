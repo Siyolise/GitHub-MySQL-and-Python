{
 "cells": [
  {
   "cell_type": "code",
   "execution_count": 1,
   "metadata": {},
   "outputs": [],
   "source": [
    "import pymysql"
   ]
  },
  {
   "cell_type": "code",
   "execution_count": 2,
   "metadata": {},
   "outputs": [
    {
     "name": "stdout",
     "output_type": "stream",
     "text": [
      "(1, 'Chips', 'Simba/Lays')\n",
      "(2, 'Cooldrinks', 'Coke/Fanta')\n",
      "(3, 'Chocolates', 'Cadbury/Tex')\n",
      "(4, 'Pies', 'Pepper Steak/Chicken')\n",
      "(5, 'Fruit', 'Pear/Apple/Orange')\n",
      "(6, 'Cupcakes', 'Vanilla/Chocolate')\n",
      "(7, 'Veggies', 'Spinach/Cabbage')\n",
      "(8, 'Meat', 'Beef/Chicken')\n",
      "(9, 'Biscuits', 'Oreo/Tennis')\n",
      "(10, 'Distilled Water', 'Aquelle/Tsitsikama')\n"
     ]
    }
   ],
   "source": [
    "'''\n",
    "Add the following into your\n",
    "sprint 2 MySQL data using Python:'''\n",
    "#Add more products and their brands\n",
    "\n",
    "\n",
    "#first create a connection to the database\n",
    "mydb = pymysql.connect(host='127.0.0.1',\n",
    "                      user='root',\n",
    "                      password='Siyo@2020',\n",
    "                      db='mydb')\n",
    "\n",
    "cursor = mydb.cursor()\n",
    "cursor.execute('SELECT * FROM mydb.mystore')\n",
    "\n",
    "for i in cursor:\n",
    "    print(i)"
   ]
  },
  {
   "cell_type": "code",
   "execution_count": 8,
   "metadata": {},
   "outputs": [
    {
     "name": "stdout",
     "output_type": "stream",
     "text": [
      "(1, 14001, 'chips', 'simba', 20, Decimal('18.00'))\n",
      "(2, 14002, 'chips', 'lays', 20, Decimal('18.00'))\n",
      "(3, 14003, 'cooldrinks', 'coke', 48, Decimal('10.00'))\n",
      "(4, 14004, 'cooldrinks', 'fanta', 48, Decimal('10.00'))\n",
      "(5, 14005, 'chocoloates', 'cudbury', 15, Decimal('12.50'))\n",
      "(6, 14006, 'chocolates', 'tex', 18, Decimal('11.00'))\n",
      "(7, 14007, 'pies', 'pepper steak', 30, Decimal('22.00'))\n",
      "(8, 14008, 'pies', 'chicken', 25, Decimal('22.00'))\n",
      "(9, 14009, 'fruit', 'pear', 18, Decimal('3.00'))\n",
      "(10, 14010, 'fruit', 'apple', 20, Decimal('3.00'))\n",
      "(11, 14011, 'fruit', 'orange', 15, Decimal('4.00'))\n",
      "(12, 14012, 'cupcakes', 'vanilla', 20, Decimal('13.00'))\n",
      "(13, 14013, 'cupcakes', 'chocolate', 20, Decimal('13.00'))\n",
      "(14, 14014, 'veggies', 'spinach', 15, Decimal('7.50'))\n",
      "(15, 14015, 'veggies', 'cabbage', 15, Decimal('8.00'))\n",
      "(16, 14016, 'meat', 'beef', 15, Decimal('35.00'))\n",
      "(17, 14017, 'meat', 'chicken', 18, Decimal('25.00'))\n",
      "(18, 14018, 'biscuits', 'oreo', 20, Decimal('17.00'))\n",
      "(19, 14019, 'biscuits', 'tennis', 20, Decimal('15.00'))\n",
      "(20, 14020, 'distilled water', 'aquelle', 25, Decimal('11.00'))\n",
      "(21, 14021, 'distilled water', 'tsitsikama', 20, Decimal('12.00'))\n"
     ]
    }
   ],
   "source": [
    "#Create more columns to your products. \n",
    "#Categorize data for each product.\n",
    "\n",
    "#first create a connection to the database\n",
    "mydb = pymysql.connect(host='127.0.0.1',\n",
    "                      user='root',\n",
    "                      password='Siyo@2020',\n",
    "                      db='mydb')\n",
    "\n",
    "\n",
    "cursor = mydb.cursor()\n",
    "cursor.execute('SELECT * FROM mydb.mysales')\n",
    "\n",
    "for row in cursor:\n",
    "    print(row)"
   ]
  }
 ],
 "metadata": {
  "kernelspec": {
   "display_name": "Python 3",
   "language": "python",
   "name": "python3"
  },
  "language_info": {
   "codemirror_mode": {
    "name": "ipython",
    "version": 3
   },
   "file_extension": ".py",
   "mimetype": "text/x-python",
   "name": "python",
   "nbconvert_exporter": "python",
   "pygments_lexer": "ipython3",
   "version": "3.7.6"
  }
 },
 "nbformat": 4,
 "nbformat_minor": 4
}
